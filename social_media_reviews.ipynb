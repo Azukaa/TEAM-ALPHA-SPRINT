{
 "cells": [
  {
   "cell_type": "code",
   "execution_count": 1,
   "metadata": {},
   "outputs": [],
   "source": [
    "# Natural Language Processing\n",
    "\n",
    "# Importing the libraries\n",
    "import numpy as np\n",
    "import matplotlib.pyplot as plt\n",
    "import pandas as pd"
   ]
  },
  {
   "cell_type": "code",
   "execution_count": 38,
   "metadata": {
    "scrolled": true
   },
   "outputs": [
    {
     "data": {
      "text/html": [
       "<div>\n",
       "<style scoped>\n",
       "    .dataframe tbody tr th:only-of-type {\n",
       "        vertical-align: middle;\n",
       "    }\n",
       "\n",
       "    .dataframe tbody tr th {\n",
       "        vertical-align: top;\n",
       "    }\n",
       "\n",
       "    .dataframe thead th {\n",
       "        text-align: right;\n",
       "    }\n",
       "</style>\n",
       "<table border=\"1\" class=\"dataframe\">\n",
       "  <thead>\n",
       "    <tr style=\"text-align: right;\">\n",
       "      <th></th>\n",
       "      <th>Review</th>\n",
       "      <th>Liked</th>\n",
       "    </tr>\n",
       "  </thead>\n",
       "  <tbody>\n",
       "    <tr>\n",
       "      <th>0</th>\n",
       "      <td>Wow... This Product is amazing.</td>\n",
       "      <td>1</td>\n",
       "    </tr>\n",
       "    <tr>\n",
       "      <th>1</th>\n",
       "      <td>Product is not good.</td>\n",
       "      <td>0</td>\n",
       "    </tr>\n",
       "    <tr>\n",
       "      <th>2</th>\n",
       "      <td>Not what I ordered for and the customer servic...</td>\n",
       "      <td>0</td>\n",
       "    </tr>\n",
       "    <tr>\n",
       "      <th>3</th>\n",
       "      <td>Easy to use. As a beginner I found this pad ve...</td>\n",
       "      <td>1</td>\n",
       "    </tr>\n",
       "    <tr>\n",
       "      <th>4</th>\n",
       "      <td>I am very happy with this tablet.</td>\n",
       "      <td>1</td>\n",
       "    </tr>\n",
       "    <tr>\n",
       "      <th>5</th>\n",
       "      <td>Now I am getting angry and I want my damn mone...</td>\n",
       "      <td>0</td>\n",
       "    </tr>\n",
       "    <tr>\n",
       "      <th>6</th>\n",
       "      <td>I was really hoping that this would be faster ...</td>\n",
       "      <td>0</td>\n",
       "    </tr>\n",
       "  </tbody>\n",
       "</table>\n",
       "</div>"
      ],
      "text/plain": [
       "                                              Review  Liked\n",
       "0                    Wow... This Product is amazing.      1\n",
       "1                               Product is not good.      0\n",
       "2  Not what I ordered for and the customer servic...      0\n",
       "3  Easy to use. As a beginner I found this pad ve...      1\n",
       "4                  I am very happy with this tablet.      1\n",
       "5  Now I am getting angry and I want my damn mone...      0\n",
       "6  I was really hoping that this would be faster ...      0"
      ]
     },
     "execution_count": 38,
     "metadata": {},
     "output_type": "execute_result"
    }
   ],
   "source": [
    "# Importing the dataset\n",
    "dataset = pd.read_csv('social_media_reviews2.tsv', delimiter = '\\t', quoting = 3)\n",
    "dataset.head(7)\n",
    "# 1 means a positive review and 0 means a negative review"
   ]
  },
  {
   "cell_type": "code",
   "execution_count": 39,
   "metadata": {},
   "outputs": [
    {
     "data": {
      "text/plain": [
       "(117, 2)"
      ]
     },
     "execution_count": 39,
     "metadata": {},
     "output_type": "execute_result"
    }
   ],
   "source": [
    "dataset.shape"
   ]
  },
  {
   "cell_type": "code",
   "execution_count": 40,
   "metadata": {},
   "outputs": [
    {
     "name": "stderr",
     "output_type": "stream",
     "text": [
      "[nltk_data] Downloading package stopwords to\n",
      "[nltk_data]     C:\\Users\\User\\AppData\\Roaming\\nltk_data...\n",
      "[nltk_data]   Package stopwords is already up-to-date!\n"
     ]
    }
   ],
   "source": [
    "import re\n",
    "import nltk\n",
    "nltk.download('stopwords')\n",
    "from nltk.corpus import stopwords\n",
    "from nltk.stem.porter import PorterStemmer\n"
   ]
  },
  {
   "cell_type": "code",
   "execution_count": 42,
   "metadata": {},
   "outputs": [
    {
     "name": "stdout",
     "output_type": "stream",
     "text": [
      "['wow product amaz', 'product good', 'order custom servic nasti', 'easi use beginn found pad good enjoy kindl app', 'happi tablet', 'get angri want damn money back', 'realli hope would faster inexspens tablet', 'need work batteri', 'product good', 'realli work expect', 'good qualiti', 'would go back vendor', 'laptop light issu bright', 'product good', 'work fine', 'work well gb instead gb indic', 'highli recommend', 'deliveri realli slow', 'batteri health came still confus', 'like', 'strong batteri life', 'work perfectli', 'great meet need', 'good product batteri also good', 'yeah like conveni use qualiti excel', 'leather strong expect', 'nice product', 'hate honestli bad', 'made good qualiti leather', 'deliv someth differ pictur even origin', 'found vendor accid could happier', 'qualiti need upgrad', 'nice soft light comfi', 'met expect', 'good', 'bad qualiti wast money', 'beauti leather', 'deliveri suck', 'eri cool', 'deal good enough would drag vendor', 'hard judg whether side good gross melt styrofoam want eat fear get sick', 'surprisingli shoe good qualiti price', 'happi got', 'packag bad', 'son use like last long', 'fit high qualiti', 'exactli order', 'exactli right size', 'sneaker expect', 'came good condit realli good qualiti', 'perfect size also', 'comfort', 'shown pic qualiti expect', 'descript accuraci', 'fit nice', 'realli love', 'order size deep blue got size light blue', 'good enough', 'colour differ colour order', 'comfort nice', 'poor shoe sole uk size normal shoe size blue unisex uk size size small', 'colour light blue dark blue', 'love', 'nice', 'good qualiti', 'glad found vendor', 'great product give good discount', 'pictur cool', 'got expect pray last', 'exactli want', 'sincer expect would rubber materi', 'much love phone', 'good love simpli smart peopl', 'nice sneaker', 'nice colour order', 'took day get product instead day assur vendor', 'bad packag', 'fake', 'qualiti expect', 'nice product price', 'superb', 'order mine buy friend', 'feel good', 'shirt make uncomfort', 'work', 'high qualiti materi', 'materi coat alreadi start peel st week arriv', 'perfectli made', 'materi low qualiti', 'much worth amount', 'good qualiti', 'great wear', 'fit perfectli', 'great', 'product nice', 'summari larg disappoint purchas', 'look get good textur qualiti tee plug', 'good qualiti', 'bit fast fade', 'never shop vendor', 'hoodi perfect price', 'hoodi good', 'good', 'qualiti materi superb stich', 'make sens valu money least one got', 'best deal gotten jumia', 'met expect', 'authent exactli want kudo guy jumia well', 'product beauti amaz', 'item came intact discrib seller', 'durabl fine piec watch', 'worth price even better', 'good cheap', 'sooooo good', 'two day usag two side buttein fade chang colour', 'think good product', 'product okay love']\n"
     ]
    }
   ],
   "source": [
    "corpus = []\n",
    "for i in range(0, 117):\n",
    "    review = re.sub('[^a-zA-Z]', ' ', dataset['Review'][i])\n",
    "    review = review.lower()\n",
    "    review = review.split()\n",
    "    ps = PorterStemmer()\n",
    "    review = [ps.stem(word) for word in review if not word in set(stopwords.words('english'))]\n",
    "    review = ' '.join(review)\n",
    "    corpus.append(review)\n",
    "print(corpus)"
   ]
  },
  {
   "cell_type": "code",
   "execution_count": 44,
   "metadata": {},
   "outputs": [
    {
     "name": "stdout",
     "output_type": "stream",
     "text": [
      "[[0 0 0 ... 0 1 0]\n",
      " [0 0 0 ... 0 0 0]\n",
      " [0 0 0 ... 0 0 0]\n",
      " ...\n",
      " [0 0 0 ... 0 0 0]\n",
      " [0 0 0 ... 0 0 0]\n",
      " [0 0 0 ... 0 0 0]]\n",
      "[1 0 0 1 1 0 0 0 1 1 1 0 0 1 0 0 1 0 0 0 1 1 1 1 1 0 1 0 1 0 1 0 1 1 1 0 1\n",
      " 0 1 0 0 1 1 0 0 1 1 1 1 1 1 1 0 1 1 1 0 0 0 1 0 0 1 1 1 1 1 1 1 1 0 1 1 1\n",
      " 0 0 0 0 0 1 1 1 0 0 0 1 0 1 0 1 1 1 1 1 1 0 1 1 0 0 1 1 0 1 1 1 1 1 1 1 1\n",
      " 1 1 1 0 0 1]\n"
     ]
    }
   ],
   "source": [
    "# Creating the Bag of Words model\n",
    "from sklearn.feature_extraction.text import CountVectorizer\n",
    "cv = CountVectorizer(max_features = 1500)\n",
    "X = cv.fit_transform(corpus).toarray()\n",
    "print(X)\n",
    "y = dataset.iloc[:, 1].values\n",
    "print(y)"
   ]
  },
  {
   "cell_type": "code",
   "execution_count": 45,
   "metadata": {},
   "outputs": [
    {
     "data": {
      "text/plain": [
       "GaussianNB(priors=None, var_smoothing=1e-09)"
      ]
     },
     "execution_count": 45,
     "metadata": {},
     "output_type": "execute_result"
    }
   ],
   "source": [
    "# Splitting the dataset into the Training set and Test set\n",
    "from sklearn.model_selection import train_test_split\n",
    "X_train, X_test, y_train, y_test = train_test_split(X, y, test_size = 0.20, random_state = 0)\n",
    "\n",
    "# Training the Naive Bayes model on the Training set\n",
    "from sklearn.naive_bayes import GaussianNB\n",
    "classifier = GaussianNB()\n",
    "classifier.fit(X_train, y_train)"
   ]
  },
  {
   "cell_type": "code",
   "execution_count": 46,
   "metadata": {},
   "outputs": [
    {
     "name": "stdout",
     "output_type": "stream",
     "text": [
      "[[ 3  4]\n",
      " [ 1 16]]\n"
     ]
    }
   ],
   "source": [
    "# Predicting the Test set results\n",
    "y_pred = classifier.predict(X_test)\n",
    "\n",
    "# Making the Confusion Matrix\n",
    "from sklearn.metrics import confusion_matrix\n",
    "cm = confusion_matrix(y_test, y_pred)\n",
    "print(cm)\n"
   ]
  },
  {
   "cell_type": "code",
   "execution_count": 47,
   "metadata": {},
   "outputs": [
    {
     "name": "stdout",
     "output_type": "stream",
     "text": [
      "0.7916666666666666\n"
     ]
    }
   ],
   "source": [
    "#Check the accuracy of our model\n",
    "from sklearn.metrics import accuracy_score\n",
    "accuracy = accuracy_score(y_pred, y_test)\n",
    "print(accuracy)"
   ]
  },
  {
   "cell_type": "code",
   "execution_count": 49,
   "metadata": {},
   "outputs": [
    {
     "name": "stdout",
     "output_type": "stream",
     "text": [
      "72\n",
      "117\n"
     ]
    }
   ],
   "source": [
    "#What we want our model to do is to be able to classify a new comment into positive or negative\n",
    "#After doing this, we want it to also add the new comment into the database of the account and then perform an analysis\n",
    "#to know the level of good ratings given to that vendor compared to all the ratings received\n",
    "\n",
    "#First we would check for all positive ratings\n",
    "count = 0\n",
    "for i in y:\n",
    "    if i == 1:\n",
    "        count+=1\n",
    "print(count)     "
   ]
  },
  {
   "cell_type": "code",
   "execution_count": 52,
   "metadata": {},
   "outputs": [
    {
     "name": "stdout",
     "output_type": "stream",
     "text": [
      "0.6153846153846154\n"
     ]
    }
   ],
   "source": [
    "total_ratings = len(y)\n",
    "level_good_rating = (count/total_ratings)\n",
    "print(level_good_rating)"
   ]
  },
  {
   "cell_type": "code",
   "execution_count": 51,
   "metadata": {},
   "outputs": [],
   "source": [
    "#From the above we can see that this vendor has a rating of 61.54%\n",
    "rating = 0"
   ]
  },
  {
   "cell_type": "code",
   "execution_count": 55,
   "metadata": {},
   "outputs": [
    {
     "name": "stdout",
     "output_type": "stream",
     "text": [
      "4\n"
     ]
    }
   ],
   "source": [
    "if level_good_rating <=0.2:\n",
    "    rating = 1\n",
    "elif level_good_rating > 0.2 and level_good_rating <=0.2:\n",
    "    rating = 2\n",
    "elif level_good_rating >0.4 and level_good_rating <=0.6:\n",
    "    rating = 3\n",
    "elif level_good_rating >0.6 and level_good_rating <=0.8:\n",
    "    rating = 4\n",
    "else:\n",
    "    rating = 5\n",
    "    \n",
    "print(rating)"
   ]
  },
  {
   "cell_type": "code",
   "execution_count": null,
   "metadata": {},
   "outputs": [],
   "source": []
  },
  {
   "cell_type": "code",
   "execution_count": null,
   "metadata": {},
   "outputs": [],
   "source": []
  }
 ],
 "metadata": {
  "kernelspec": {
   "display_name": "Python 3",
   "language": "python",
   "name": "python3"
  },
  "language_info": {
   "codemirror_mode": {
    "name": "ipython",
    "version": 3
   },
   "file_extension": ".py",
   "mimetype": "text/x-python",
   "name": "python",
   "nbconvert_exporter": "python",
   "pygments_lexer": "ipython3",
   "version": "3.7.6"
  }
 },
 "nbformat": 4,
 "nbformat_minor": 4
}
